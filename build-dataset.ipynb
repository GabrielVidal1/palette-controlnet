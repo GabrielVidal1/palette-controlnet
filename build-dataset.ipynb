{
 "cells": [
  {
   "cell_type": "code",
   "execution_count": 3,
   "metadata": {},
   "outputs": [
    {
     "name": "stderr",
     "output_type": "stream",
     "text": [
      "Resolving data files: 100%|██████████| 47/47 [00:01<00:00, 45.08it/s]\n",
      "Resolving data files: 100%|██████████| 47/47 [00:00<00:00, 388055.69it/s]\n"
     ]
    },
    {
     "name": "stdout",
     "output_type": "stream",
     "text": [
      "{'caption': 'Amidst the towering skyscrapers and congested streets of a metropolis, chaotic energy abounds. The scene is a collision of neon lights, honking vehicles, rushing pedestrians, and graffiti-covered walls, all contributing to an unrelenting urban frenzy.', 'image': <PIL.PngImagePlugin.PngImageFile image mode=RGB size=1024x1024 at 0x281E73BE0>, 'link': 'https://cdn.discordapp.com/attachments/1158354590463447092/1163229131371192431/9e18e126-ec8e-4c62-b512-d00899726fc5.jpg?ex=653ed08c&is=652c5b8c&hm=ec95543d046be2f1879c569890a298a043070d34eebcfa3106d6141e24d0133f&', 'message_id': '1163229132847591424', 'timestamp': '2023-10-15T21:37:17.023000+00:00'}\n"
     ]
    }
   ],
   "source": [
    "import datasets\n",
    "\n",
    "# Load the dataset\n",
    "\n",
    "for i in dataset :\n",
    "    print(i)\n",
    "    break"
   ]
  },
  {
   "cell_type": "code",
   "execution_count": 3,
   "metadata": {},
   "outputs": [],
   "source": [
    "from get_palette import extract_colors\n",
    "from palette_to_image import debug_palette\n",
    "\n",
    "num_of_colors = 5\n",
    "\n",
    "count = 20\n",
    "\n",
    "def gen(dataset):\n",
    "    i = 0\n",
    "    for element in dataset :\n",
    "        img = element[\"image\"]\n",
    "        main_colors = extract_colors(img, num_of_colors)\n",
    "        palette = debug_palette(main_colors, size=(100, 50))\n",
    "\n",
    "        yield {\n",
    "            \"image\" : element[\"image\"],\n",
    "            \"palette\": palette,\n",
    "            \"text\" : element[\"caption\"]\n",
    "        }\n",
    "        i += 1\n",
    "        if i == count :\n",
    "            break"
   ]
  },
  {
   "cell_type": "code",
   "execution_count": 6,
   "metadata": {},
   "outputs": [
    {
     "name": "stderr",
     "output_type": "stream",
     "text": [
      "Resolving data files: 100%|██████████| 47/47 [00:00<00:00, 58.37it/s]\n",
      "Resolving data files: 100%|██████████| 47/47 [00:00<00:00, 311425.42it/s]\n",
      "Generating train split: 0 examples [00:00, ? examples/s]"
     ]
    },
    {
     "name": "stdout",
     "output_type": "stream",
     "text": [
      "{'caption': 'Amidst the towering skyscrapers and congested streets of a metropolis, chaotic energy abounds. The scene is a collision of neon lights, honking vehicles, rushing pedestrians, and graffiti-covered walls, all contributing to an unrelenting urban frenzy.', 'image': <PIL.PngImagePlugin.PngImageFile image mode=RGB size=1024x1024 at 0x2A0866C80>, 'link': 'https://cdn.discordapp.com/attachments/1158354590463447092/1163229131371192431/9e18e126-ec8e-4c62-b512-d00899726fc5.jpg?ex=653ed08c&is=652c5b8c&hm=ec95543d046be2f1879c569890a298a043070d34eebcfa3106d6141e24d0133f&', 'message_id': '1163229132847591424', 'timestamp': '2023-10-15T21:37:17.023000+00:00'}\n"
     ]
    },
    {
     "name": "stderr",
     "output_type": "stream",
     "text": [
      "/Users/gabrielvidal/PROJECTS/palette-controlnet/venv/lib/python3.10/site-packages/sklearn/cluster/_kmeans.py:1416: FutureWarning: The default value of `n_init` will change from 10 to 'auto' in 1.4. Set the value of `n_init` explicitly to suppress the warning\n",
      "  super()._check_params_vs_input(X, default_n_init=10)\n",
      "Generating train split: 1 examples [00:10, 10.63s/ examples]/Users/gabrielvidal/PROJECTS/palette-controlnet/venv/lib/python3.10/site-packages/sklearn/cluster/_kmeans.py:1416: FutureWarning: The default value of `n_init` will change from 10 to 'auto' in 1.4. Set the value of `n_init` explicitly to suppress the warning\n",
      "  super()._check_params_vs_input(X, default_n_init=10)\n"
     ]
    },
    {
     "name": "stdout",
     "output_type": "stream",
     "text": [
      "{'caption': 'Amidst the towering skyscrapers and congested streets of a metropolis, chaotic energy abounds. The scene is a collision of neon lights, honking vehicles, rushing pedestrians, and graffiti-covered walls, all contributing to an unrelenting urban frenzy.', 'image': <PIL.PngImagePlugin.PngImageFile image mode=RGB size=1024x1024 at 0x2A08660E0>, 'link': 'https://cdn.discordapp.com/attachments/1158354590463447092/1163229131752865832/27f8b6c9-e7ca-47fd-a4ea-5789e4852996.jpg?ex=653ed08c&is=652c5b8c&hm=f6ff694fd0c202d94ff0a4bf2200caf31c1cd1a909d3922981d114a107c97f1c&', 'message_id': '1163229132847591424', 'timestamp': '2023-10-15T21:37:17.023000+00:00'}\n"
     ]
    },
    {
     "name": "stderr",
     "output_type": "stream",
     "text": [
      "Generating train split: 2 examples [00:12,  5.20s/ examples]/Users/gabrielvidal/PROJECTS/palette-controlnet/venv/lib/python3.10/site-packages/sklearn/cluster/_kmeans.py:1416: FutureWarning: The default value of `n_init` will change from 10 to 'auto' in 1.4. Set the value of `n_init` explicitly to suppress the warning\n",
      "  super()._check_params_vs_input(X, default_n_init=10)\n"
     ]
    },
    {
     "name": "stdout",
     "output_type": "stream",
     "text": [
      "{'caption': 'Amidst the towering skyscrapers and congested streets of a metropolis, chaotic energy abounds. The scene is a collision of neon lights, honking vehicles, rushing pedestrians, and graffiti-covered walls, all contributing to an unrelenting urban frenzy.', 'image': <PIL.PngImagePlugin.PngImageFile image mode=RGB size=1024x1024 at 0x2A0866500>, 'link': 'https://cdn.discordapp.com/attachments/1158354590463447092/1163229132277161984/ed3fbabf-16d1-471e-9c33-4704ee1e7b59.jpg?ex=653ed08c&is=652c5b8c&hm=d9ac76647142a1add3aba2beb6e112051c727b041d3224092873bd1ead215647&', 'message_id': '1163229132847591424', 'timestamp': '2023-10-15T21:37:17.023000+00:00'}\n"
     ]
    },
    {
     "name": "stderr",
     "output_type": "stream",
     "text": [
      "Generating train split: 3 examples [00:13,  3.47s/ examples]/Users/gabrielvidal/PROJECTS/palette-controlnet/venv/lib/python3.10/site-packages/sklearn/cluster/_kmeans.py:1416: FutureWarning: The default value of `n_init` will change from 10 to 'auto' in 1.4. Set the value of `n_init` explicitly to suppress the warning\n",
      "  super()._check_params_vs_input(X, default_n_init=10)\n"
     ]
    },
    {
     "name": "stdout",
     "output_type": "stream",
     "text": [
      "{'caption': 'Amidst the towering skyscrapers and congested streets of a metropolis, chaotic energy abounds. The scene is a collision of neon lights, honking vehicles, rushing pedestrians, and graffiti-covered walls, all contributing to an unrelenting urban frenzy.', 'image': <PIL.PngImagePlugin.PngImageFile image mode=RGB size=1024x1024 at 0x2A08667D0>, 'link': 'https://cdn.discordapp.com/attachments/1158354590463447092/1163229132583338104/265825c4-5e29-4ca8-81de-69fd096abf56.jpg?ex=653ed08c&is=652c5b8c&hm=c40571b29059e389ea9db2d5c44785779e0c93c4697e2e5c0f05bb8e9f275688&', 'message_id': '1163229132847591424', 'timestamp': '2023-10-15T21:37:17.023000+00:00'}\n"
     ]
    },
    {
     "name": "stderr",
     "output_type": "stream",
     "text": [
      "Generating train split: 4 examples [00:14,  2.68s/ examples]/Users/gabrielvidal/PROJECTS/palette-controlnet/venv/lib/python3.10/site-packages/sklearn/cluster/_kmeans.py:1416: FutureWarning: The default value of `n_init` will change from 10 to 'auto' in 1.4. Set the value of `n_init` explicitly to suppress the warning\n",
      "  super()._check_params_vs_input(X, default_n_init=10)\n"
     ]
    },
    {
     "name": "stdout",
     "output_type": "stream",
     "text": [
      "{'caption': \"Wide anime-styled hand-drawn image with watercolor blending on chrome steel, echoing 20th century symbolism and Klimt's artistry, set in the 1940s. A man, with a noble stance but a less polished appearance, softly interacts with an enigmatic entity. There's a subtle, uncanny quality to his expression and the overall composition, creating a sense of unease and curiosity. The image exudes both authority and a hint of eeriness. Genre: Tragic romance. White borders\", 'image': <PIL.PngImagePlugin.PngImageFile image mode=RGB size=1792x1024 at 0x2A0866DA0>, 'link': 'https://cdn.discordapp.com/attachments/1158354590463447092/1163228854257733782/3fd3de66-0b14-43d5-ba92-e1a28340fa9f-2.webp?ex=653ed04a&is=652c5b4a&hm=c7c12435015101cd04a2cc8e6b1c2d9a5c3876da366f1f4abe605bbfb1fd6ec2&', 'message_id': '1163228854639394837', 'timestamp': '2023-10-15T21:36:10.693000+00:00'}\n"
     ]
    },
    {
     "name": "stderr",
     "output_type": "stream",
     "text": [
      "Generating train split: 5 examples [00:16,  2.29s/ examples]/Users/gabrielvidal/PROJECTS/palette-controlnet/venv/lib/python3.10/site-packages/sklearn/cluster/_kmeans.py:1416: FutureWarning: The default value of `n_init` will change from 10 to 'auto' in 1.4. Set the value of `n_init` explicitly to suppress the warning\n",
      "  super()._check_params_vs_input(X, default_n_init=10)\n"
     ]
    },
    {
     "name": "stdout",
     "output_type": "stream",
     "text": [
      "{'caption': 'In a serene and surreal tableau, an artist in all-white attire floats gracefully in a pool of milk. Her closed eyes and tranquil expression convey deep introspection as ripples radiate from their gentle movements, blurring the boundaries between reality and imagination.', 'image': <PIL.PngImagePlugin.PngImageFile image mode=RGB size=1024x1024 at 0x2A0866E90>, 'link': 'https://cdn.discordapp.com/attachments/1158354590463447092/1163228489374240898/a75e50df-1d8e-4ce4-96fa-5d28bb20450e.jpg?ex=653ecff3&is=652c5af3&hm=e980d5a07a31fb8afaba2c4ac5e318a0693c08ad12270c9df267fddf53447469&', 'message_id': '1163228490334740490', 'timestamp': '2023-10-15T21:34:43.836000+00:00'}\n"
     ]
    },
    {
     "name": "stderr",
     "output_type": "stream",
     "text": [
      "Generating train split: 6 examples [00:17,  2.00s/ examples]/Users/gabrielvidal/PROJECTS/palette-controlnet/venv/lib/python3.10/site-packages/sklearn/cluster/_kmeans.py:1416: FutureWarning: The default value of `n_init` will change from 10 to 'auto' in 1.4. Set the value of `n_init` explicitly to suppress the warning\n",
      "  super()._check_params_vs_input(X, default_n_init=10)\n"
     ]
    },
    {
     "name": "stdout",
     "output_type": "stream",
     "text": [
      "{'caption': 'In a serene and surreal tableau, an artist in all-white attire floats gracefully in a pool of milk. Her closed eyes and tranquil expression convey deep introspection as ripples radiate from their gentle movements, blurring the boundaries between reality and imagination.', 'image': <PIL.PngImagePlugin.PngImageFile image mode=RGB size=1024x1024 at 0x2A0867430>, 'link': 'https://cdn.discordapp.com/attachments/1158354590463447092/1163228489772716153/9f7774a8-8d68-4cf0-8e92-aca50e6047da.jpg?ex=653ecff3&is=652c5af3&hm=bd9a9275d7ea6911bb3c1aac0f811cb628e35b88c1041d028df5b741a99e3ac1&', 'message_id': '1163228490334740490', 'timestamp': '2023-10-15T21:34:43.836000+00:00'}\n"
     ]
    },
    {
     "name": "stderr",
     "output_type": "stream",
     "text": [
      "Generating train split: 7 examples [00:19,  1.80s/ examples]/Users/gabrielvidal/PROJECTS/palette-controlnet/venv/lib/python3.10/site-packages/sklearn/cluster/_kmeans.py:1416: FutureWarning: The default value of `n_init` will change from 10 to 'auto' in 1.4. Set the value of `n_init` explicitly to suppress the warning\n",
      "  super()._check_params_vs_input(X, default_n_init=10)\n"
     ]
    },
    {
     "name": "stdout",
     "output_type": "stream",
     "text": [
      "{'caption': 'In a serene and surreal tableau, an artist in all-white attire floats gracefully in a pool of milk. Her closed eyes and tranquil expression convey deep introspection as ripples radiate from their gentle movements, blurring the boundaries between reality and imagination.', 'image': <PIL.PngImagePlugin.PngImageFile image mode=RGB size=1024x1024 at 0x2A08675E0>, 'link': 'https://cdn.discordapp.com/attachments/1158354590463447092/1163228490078883931/269195c6-619f-44c3-bd96-a67859a138a6.jpg?ex=653ecff3&is=652c5af3&hm=224cf3217d77330a33a98d1e3d465367bff5eb837cc123135ef4594cfb62718e&', 'message_id': '1163228490334740490', 'timestamp': '2023-10-15T21:34:43.836000+00:00'}\n"
     ]
    },
    {
     "name": "stderr",
     "output_type": "stream",
     "text": [
      "Generating train split: 8 examples [00:20,  1.54s/ examples]/Users/gabrielvidal/PROJECTS/palette-controlnet/venv/lib/python3.10/site-packages/sklearn/cluster/_kmeans.py:1416: FutureWarning: The default value of `n_init` will change from 10 to 'auto' in 1.4. Set the value of `n_init` explicitly to suppress the warning\n",
      "  super()._check_params_vs_input(X, default_n_init=10)\n"
     ]
    },
    {
     "name": "stdout",
     "output_type": "stream",
     "text": [
      "{'caption': 'Manga art of a half-elf mage, with rounded ears, green eyes, long braided blonde hair, a long dark blue dress with white pants, a red choker, a leather backpack and sandals. She is performing upside-down breakdance headspins in a dungeon, while a group of cute walking mushrooms gather around. The style is succinct, dynamic and fun.', 'image': <PIL.PngImagePlugin.PngImageFile image mode=RGB size=1024x1024 at 0x2A08678B0>, 'link': 'https://cdn.discordapp.com/attachments/1158354590463447092/1163228340694556802/46-0.jpg?ex=653ecfd0&is=652c5ad0&hm=e362a511fa87c08e2c8c95ba68a82cdd5dcea303bed74217e16e591d9591920d&', 'message_id': '1163228341004939294', 'timestamp': '2023-10-15T21:34:08.233000+00:00'}\n"
     ]
    },
    {
     "name": "stderr",
     "output_type": "stream",
     "text": [
      "Generating train split: 9 examples [00:20,  1.26s/ examples]"
     ]
    },
    {
     "name": "stdout",
     "output_type": "stream",
     "text": [
      "{'caption': 'Anime drawing of a magical girl with soft features, pink schoolgirl outfit, and billowing pigtails. Her big eyes gleam with spirit, but her most striking feature is her gigantic, mechanical bionic arm with thick, block-like fingers, which overshadows her petite frame.', 'image': <PIL.PngImagePlugin.PngImageFile image mode=RGB size=3056x1746 at 0x2A0867C40>, 'link': 'https://cdn.discordapp.com/attachments/1158354590463447092/1163228135022673951/Screenshot_2023-10-15_alle_23.24.15.png?ex=653ecf9f&is=652c5a9f&hm=b40067a13e08073aa0ad17ee8be537b15ab2dd8e3bac6475df863795e34cc529&', 'message_id': '1163228135400149103', 'timestamp': '2023-10-15T21:33:19.213000+00:00'}\n"
     ]
    },
    {
     "name": "stderr",
     "output_type": "stream",
     "text": [
      "/Users/gabrielvidal/PROJECTS/palette-controlnet/venv/lib/python3.10/site-packages/sklearn/cluster/_kmeans.py:1416: FutureWarning: The default value of `n_init` will change from 10 to 'auto' in 1.4. Set the value of `n_init` explicitly to suppress the warning\n",
      "  super()._check_params_vs_input(X, default_n_init=10)\n",
      "Generating train split: 10 examples [00:22,  1.23s/ examples]/Users/gabrielvidal/PROJECTS/palette-controlnet/venv/lib/python3.10/site-packages/sklearn/cluster/_kmeans.py:1416: FutureWarning: The default value of `n_init` will change from 10 to 'auto' in 1.4. Set the value of `n_init` explicitly to suppress the warning\n",
      "  super()._check_params_vs_input(X, default_n_init=10)\n"
     ]
    },
    {
     "name": "stdout",
     "output_type": "stream",
     "text": [
      "{'caption': 'In a serene and surreal tableau, an artist in all-white attire floats gracefully in a pool of milk. Their closed eyes and tranquil expression convey deep introspection as ripples radiate from their gentle movements, blurring the boundaries between reality and imagination.', 'image': <PIL.PngImagePlugin.PngImageFile image mode=RGB size=1024x1024 at 0x2A0867130>, 'link': 'https://cdn.discordapp.com/attachments/1158354590463447092/1163228047772766208/4887d3a3-d2c7-47d4-bb90-33d96433b08f.jpg?ex=653ecf8a&is=652c5a8a&hm=968922ba05c8c6ef8bc79af7a1fabb852f9a0873f370de135e7b35b00aecb438&', 'message_id': '1163228048640987269', 'timestamp': '2023-10-15T21:32:58.528000+00:00'}\n"
     ]
    },
    {
     "name": "stderr",
     "output_type": "stream",
     "text": [
      "Generating train split: 11 examples [00:23,  1.21s/ examples]/Users/gabrielvidal/PROJECTS/palette-controlnet/venv/lib/python3.10/site-packages/sklearn/cluster/_kmeans.py:1416: FutureWarning: The default value of `n_init` will change from 10 to 'auto' in 1.4. Set the value of `n_init` explicitly to suppress the warning\n",
      "  super()._check_params_vs_input(X, default_n_init=10)\n"
     ]
    },
    {
     "name": "stdout",
     "output_type": "stream",
     "text": [
      "{'caption': 'In a serene and surreal tableau, an artist in all-white attire floats gracefully in a pool of milk. Their closed eyes and tranquil expression convey deep introspection as ripples radiate from their gentle movements, blurring the boundaries between reality and imagination.', 'image': <PIL.PngImagePlugin.PngImageFile image mode=RGB size=1024x1024 at 0x17451A6B0>, 'link': 'https://cdn.discordapp.com/attachments/1158354590463447092/1163228048099909632/b775e884-eb4e-4bf1-8e64-82716dd697f5.jpg?ex=653ecf8a&is=652c5a8a&hm=d227ba23dae3e52deff6c97ac1f74c5e3a07dd7a88f320e75a421482df5fcfb9&', 'message_id': '1163228048640987269', 'timestamp': '2023-10-15T21:32:58.528000+00:00'}\n"
     ]
    },
    {
     "name": "stderr",
     "output_type": "stream",
     "text": [
      "Generating train split: 12 examples [00:24,  1.26s/ examples]/Users/gabrielvidal/PROJECTS/palette-controlnet/venv/lib/python3.10/site-packages/sklearn/cluster/_kmeans.py:1416: FutureWarning: The default value of `n_init` will change from 10 to 'auto' in 1.4. Set the value of `n_init` explicitly to suppress the warning\n",
      "  super()._check_params_vs_input(X, default_n_init=10)\n"
     ]
    },
    {
     "name": "stdout",
     "output_type": "stream",
     "text": [
      "{'caption': 'In a serene and surreal tableau, an artist in all-white attire floats gracefully in a pool of milk. Their closed eyes and tranquil expression convey deep introspection as ripples radiate from their gentle movements, blurring the boundaries between reality and imagination.', 'image': <PIL.PngImagePlugin.PngImageFile image mode=RGB size=1024x1024 at 0x1745652D0>, 'link': 'https://cdn.discordapp.com/attachments/1158354590463447092/1163228048406102046/65236392-21e2-431d-a186-3c7b0751e5c8.jpg?ex=653ecf8a&is=652c5a8a&hm=3999809c7c495bc25a44c9a13f3887a5f68ecfbebaebeb764c56a258628708f8&', 'message_id': '1163228048640987269', 'timestamp': '2023-10-15T21:32:58.528000+00:00'}\n"
     ]
    },
    {
     "name": "stderr",
     "output_type": "stream",
     "text": [
      "Generating train split: 13 examples [00:25,  1.11s/ examples]/Users/gabrielvidal/PROJECTS/palette-controlnet/venv/lib/python3.10/site-packages/sklearn/cluster/_kmeans.py:1416: FutureWarning: The default value of `n_init` will change from 10 to 'auto' in 1.4. Set the value of `n_init` explicitly to suppress the warning\n",
      "  super()._check_params_vs_input(X, default_n_init=10)\n"
     ]
    },
    {
     "name": "stdout",
     "output_type": "stream",
     "text": [
      "{'caption': 'Softly lit digital painting of a modern-day street. A child, with wonder in their eyes, extends a hand to touch the weathered hand of an elderly person. The age contrast signifies the circle of life and the eternal bond of humanity. In the backdrop, elements from our previous scenes: a glimpse of the ringworld in the sky, and distant skyscrapers echoing the Mega City aesthetics.', 'image': <PIL.PngImagePlugin.PngImageFile image mode=RGB size=1792x1024 at 0x1745971F0>, 'link': 'https://cdn.discordapp.com/attachments/1158354590463447092/1163227879346290688/file-Wr9C47g4ztcu1uvXKVEpNM7u.png?ex=653ecf62&is=652c5a62&hm=878bb962f16ebb49d961a0c6cdd747bd4d99d350e3ba807b4f7444a486c577f0&', 'message_id': '1163227879602126849', 'timestamp': '2023-10-15T21:32:18.226000+00:00'}\n"
     ]
    },
    {
     "name": "stderr",
     "output_type": "stream",
     "text": [
      "Generating train split: 14 examples [00:26,  1.11s/ examples]/Users/gabrielvidal/PROJECTS/palette-controlnet/venv/lib/python3.10/site-packages/sklearn/cluster/_kmeans.py:1416: FutureWarning: The default value of `n_init` will change from 10 to 'auto' in 1.4. Set the value of `n_init` explicitly to suppress the warning\n",
      "  super()._check_params_vs_input(X, default_n_init=10)\n"
     ]
    },
    {
     "name": "stdout",
     "output_type": "stream",
     "text": [
      "{'caption': 'At a comic convention, an inflatable unicorn carries an unusual cosplayer dressed as a chaotic mix of Darth Vader, Wonder Woman, and a robot. Nearby, a dancing group of Stormtroopers groove to a Star Wars remix, while a lifelike Cthulhu figure adds an eerie touch to the eclectic and surreal atmosphere.', 'image': <PIL.PngImagePlugin.PngImageFile image mode=RGB size=1024x1024 at 0x2A490C7C0>, 'link': 'https://cdn.discordapp.com/attachments/1158354590463447092/1163226715263352893/036a89d9-ebdd-4d6e-ba90-c60cf4e95e49.jpg?ex=653ece4c&is=652c594c&hm=0ccd50826f49992934a6d5ee3801d676f075dbd3614fa3deadda0cdd3968159a&', 'message_id': '1163226716043493476', 'timestamp': '2023-10-15T21:27:40.812000+00:00'}\n"
     ]
    },
    {
     "name": "stderr",
     "output_type": "stream",
     "text": [
      "Generating train split: 15 examples [00:27,  1.07s/ examples]/Users/gabrielvidal/PROJECTS/palette-controlnet/venv/lib/python3.10/site-packages/sklearn/cluster/_kmeans.py:1416: FutureWarning: The default value of `n_init` will change from 10 to 'auto' in 1.4. Set the value of `n_init` explicitly to suppress the warning\n",
      "  super()._check_params_vs_input(X, default_n_init=10)\n"
     ]
    },
    {
     "name": "stdout",
     "output_type": "stream",
     "text": [
      "{'caption': 'At a comic convention, an inflatable unicorn carries an unusual cosplayer dressed as a chaotic mix of Darth Vader, Wonder Woman, and a robot. Nearby, a dancing group of Stormtroopers groove to a Star Wars remix, while a lifelike Cthulhu figure adds an eerie touch to the eclectic and surreal atmosphere.', 'image': <PIL.PngImagePlugin.PngImageFile image mode=RGB size=1024x1024 at 0x2A490D600>, 'link': 'https://cdn.discordapp.com/attachments/1158354590463447092/1163226715535966289/9a0335ed-3929-49a5-bd41-1799cd5b5e4b.jpg?ex=653ece4c&is=652c594c&hm=a62c955d281cc5747dcca865f1522a506cd614d74c6598b91b17cc359985bc19&', 'message_id': '1163226716043493476', 'timestamp': '2023-10-15T21:27:40.812000+00:00'}\n"
     ]
    },
    {
     "name": "stderr",
     "output_type": "stream",
     "text": [
      "Generating train split: 16 examples [00:28,  1.17s/ examples]/Users/gabrielvidal/PROJECTS/palette-controlnet/venv/lib/python3.10/site-packages/sklearn/cluster/_kmeans.py:1416: FutureWarning: The default value of `n_init` will change from 10 to 'auto' in 1.4. Set the value of `n_init` explicitly to suppress the warning\n",
      "  super()._check_params_vs_input(X, default_n_init=10)\n"
     ]
    },
    {
     "name": "stdout",
     "output_type": "stream",
     "text": [
      "{'caption': 'At a comic convention, an inflatable unicorn carries an unusual cosplayer dressed as a chaotic mix of Darth Vader, Wonder Woman, and a robot. Nearby, a dancing group of Stormtroopers groove to a Star Wars remix, while a lifelike Cthulhu figure adds an eerie touch to the eclectic and surreal atmosphere.', 'image': <PIL.PngImagePlugin.PngImageFile image mode=RGB size=1024x1024 at 0x2A490F010>, 'link': 'https://cdn.discordapp.com/attachments/1158354590463447092/1163226715825385573/0ee3d084-d1f3-402a-8bb4-e1b7fa6904cc.jpg?ex=653ece4c&is=652c594c&hm=2e7dec2c291ce325fb78686a58d99465de5209f3673e242a1ca2744a0aa5a882&', 'message_id': '1163226716043493476', 'timestamp': '2023-10-15T21:27:40.812000+00:00'}\n"
     ]
    },
    {
     "name": "stderr",
     "output_type": "stream",
     "text": [
      "Generating train split: 17 examples [00:30,  1.38s/ examples]/Users/gabrielvidal/PROJECTS/palette-controlnet/venv/lib/python3.10/site-packages/sklearn/cluster/_kmeans.py:1416: FutureWarning: The default value of `n_init` will change from 10 to 'auto' in 1.4. Set the value of `n_init` explicitly to suppress the warning\n",
      "  super()._check_params_vs_input(X, default_n_init=10)\n"
     ]
    },
    {
     "name": "stdout",
     "output_type": "stream",
     "text": [
      "{'caption': \"In the midst of a vibrant spring break party, a college student found themselves amid a sea of revelers as they were dressed in an anthropomorphic animal outfit. As the festivities reached a fever pitch, the student's growing sense of isolation and regret over wearing their costume them to a breaking point, leading to an emotional breakdown amidst the partygoers.\", 'image': <PIL.PngImagePlugin.PngImageFile image mode=RGB size=1024x1024 at 0x2A490C430>, 'link': 'https://cdn.discordapp.com/attachments/1158354590463447092/1163226138546544761/0e8e8340-f933-4340-ac6f-2ace5c779f29.jpg?ex=653ecdc3&is=652c58c3&hm=a0bac3464dae714f9279a58c568317e0ea8dddb811ba3d1cfd2240d7276a80ae&', 'message_id': '1163226139356045382', 'timestamp': '2023-10-15T21:25:23.319000+00:00'}\n"
     ]
    },
    {
     "name": "stderr",
     "output_type": "stream",
     "text": [
      "Generating train split: 18 examples [00:32,  1.36s/ examples]/Users/gabrielvidal/PROJECTS/palette-controlnet/venv/lib/python3.10/site-packages/sklearn/cluster/_kmeans.py:1416: FutureWarning: The default value of `n_init` will change from 10 to 'auto' in 1.4. Set the value of `n_init` explicitly to suppress the warning\n",
      "  super()._check_params_vs_input(X, default_n_init=10)\n"
     ]
    },
    {
     "name": "stdout",
     "output_type": "stream",
     "text": [
      "{'caption': \"In the midst of a vibrant spring break party, a college student found themselves amid a sea of revelers as they were dressed in an anthropomorphic animal outfit. As the festivities reached a fever pitch, the student's growing sense of isolation and regret over wearing their costume them to a breaking point, leading to an emotional breakdown amidst the partygoers.\", 'image': <PIL.PngImagePlugin.PngImageFile image mode=RGB size=1024x1024 at 0x2A490DC60>, 'link': 'https://cdn.discordapp.com/attachments/1158354590463447092/1163226138823376896/7f07cf12-178f-4c9e-b2c2-0b4d7e870f9a.jpg?ex=653ecdc3&is=652c58c3&hm=ce2be01f29f875977cf830ce15a9b4fb28537a10b7e40fd4bea093d74d54f3b9&', 'message_id': '1163226139356045382', 'timestamp': '2023-10-15T21:25:23.319000+00:00'}\n"
     ]
    },
    {
     "name": "stderr",
     "output_type": "stream",
     "text": [
      "Generating train split: 19 examples [00:33,  1.26s/ examples]/Users/gabrielvidal/PROJECTS/palette-controlnet/venv/lib/python3.10/site-packages/sklearn/cluster/_kmeans.py:1416: FutureWarning: The default value of `n_init` will change from 10 to 'auto' in 1.4. Set the value of `n_init` explicitly to suppress the warning\n",
      "  super()._check_params_vs_input(X, default_n_init=10)\n"
     ]
    },
    {
     "name": "stdout",
     "output_type": "stream",
     "text": [
      "{'caption': \"In the midst of a vibrant spring break party, a college student found themselves amid a sea of revelers as they were dressed in an anthropomorphic animal outfit. As the festivities reached a fever pitch, the student's growing sense of isolation and regret over wearing their costume them to a breaking point, leading to an emotional breakdown amidst the partygoers.\", 'image': <PIL.PngImagePlugin.PngImageFile image mode=RGB size=1024x1024 at 0x2A490FFA0>, 'link': 'https://cdn.discordapp.com/attachments/1158354590463447092/1163226139100205187/5fdf0c02-fa45-4378-a98b-2dc040a2e91f.jpg?ex=653ecdc3&is=652c58c3&hm=8edc02a2acd35bd244fc5d23c9ec850328e92798a7aac4424829c7e3a34208fb&', 'message_id': '1163226139356045382', 'timestamp': '2023-10-15T21:25:23.319000+00:00'}\n"
     ]
    },
    {
     "name": "stderr",
     "output_type": "stream",
     "text": [
      "Generating train split: 20 examples [00:43,  2.19s/ examples]\n",
      "Map: 100%|██████████| 20/20 [00:00<00:00, 659.22 examples/s] ?it/s]\n",
      "Creating parquet from Arrow format: 100%|██████████| 1/1 [00:00<00:00, 17.88ba/s]\n",
      "Uploading the dataset shards: 100%|██████████| 1/1 [00:03<00:00,  3.28s/it]\n"
     ]
    }
   ],
   "source": [
    "from functools import partial\n",
    "from datasets import Dataset\n",
    "import datasets\n",
    "\n",
    "dataset = datasets.load_dataset(\"laion/dalle-3-dataset\", streaming=True, split=\"train\")\n",
    "\n",
    "dataset = dataset.shuffle(seed=42, buffer_size=1_000)\n",
    "\n",
    "ds = Dataset.from_generator(partial(gen, dataset))\n",
    "\n",
    "ds.push_to_hub(\"GabrielVidal/dalle-3-palette\")\n"
   ]
  }
 ],
 "metadata": {
  "kernelspec": {
   "display_name": "venv",
   "language": "python",
   "name": "python3"
  },
  "language_info": {
   "codemirror_mode": {
    "name": "ipython",
    "version": 3
   },
   "file_extension": ".py",
   "mimetype": "text/x-python",
   "name": "python",
   "nbconvert_exporter": "python",
   "pygments_lexer": "ipython3",
   "version": "3.10.13"
  }
 },
 "nbformat": 4,
 "nbformat_minor": 2
}
